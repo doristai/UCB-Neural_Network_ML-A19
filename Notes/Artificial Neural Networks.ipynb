{
 "cells": [
  {
   "cell_type": "markdown",
   "id": "2eb9ac0b",
   "metadata": {},
   "source": [
    "## Artificial Neural Networks\n",
    "\n",
    "### Perceptron Model\n",
    "- Single neural network unit\n",
    "- Mimics a biological neuron by receiving input data, weighing information and producing a clear output\n",
    "\n",
    "#### 4 Major Components \n",
    "**1. Input Values**: Labelled as ```x``` (Chi)\n",
    "\n",
    "**2. Weight Coefficient**: \n",
    "    - For each input value \n",
    "    - Labelled as ```w```\n",
    "    \n",
    "**3. Bias**: \n",
    "    - A constant value added to the input to influence the final decision\n",
    "    - Labelled as $w_0$\n",
    "\n",
    "**4. Net Summary Function**:\n",
    "    - Aggregates all weighted inputs"
   ]
  },
  {
   "cell_type": "code",
   "execution_count": null,
   "id": "bf66f089",
   "metadata": {},
   "outputs": [],
   "source": []
  }
 ],
 "metadata": {
  "kernelspec": {
   "display_name": "mlenv",
   "language": "python",
   "name": "mlenv"
  },
  "language_info": {
   "codemirror_mode": {
    "name": "ipython",
    "version": 3
   },
   "file_extension": ".py",
   "mimetype": "text/x-python",
   "name": "python",
   "nbconvert_exporter": "python",
   "pygments_lexer": "ipython3",
   "version": "3.8.8"
  }
 },
 "nbformat": 4,
 "nbformat_minor": 5
}
